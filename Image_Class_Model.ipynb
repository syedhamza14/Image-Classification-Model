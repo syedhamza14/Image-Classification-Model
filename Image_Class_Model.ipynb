{
 "cells": [
  {
   "cell_type": "code",
   "execution_count": 71,
   "id": "f35dd140-91b5-49ce-a8e1-2027eac1eec9",
   "metadata": {
    "tags": []
   },
   "outputs": [],
   "source": [
    "# Importing libraries\n",
    "\n",
    "import numpy as np\n",
    "import pandas as pd\n",
    "import matplotlib.pyplot as plt\n",
    "import tensorflow as tf\n",
    "\n",
    "from tensorflow import keras\n",
    "from tensorflow.keras import layers"
   ]
  },
  {
   "cell_type": "code",
   "execution_count": 72,
   "id": "67507ade-a11a-43de-834e-1791871047a2",
   "metadata": {
    "tags": []
   },
   "outputs": [],
   "source": [
    "# variables store the path to the directory containing train/test/val data\n",
    "\n",
    "data_train_path = 'Fruits_Vegetables/train'\n",
    "data_test_path = 'Fruits_Vegetables/test'\n",
    "data_val_path = 'Fruits_Vegetables/validation'"
   ]
  },
  {
   "cell_type": "code",
   "execution_count": 73,
   "id": "9d0475d5-ff56-4204-bcb6-1a83815ad4f2",
   "metadata": {
    "tags": []
   },
   "outputs": [],
   "source": [
    "# Image width and height\n",
    "\n",
    "img_width = 180\n",
    "img_height =180 "
   ]
  },
  {
   "cell_type": "code",
   "execution_count": 74,
   "id": "fbf16358-9656-4338-92f6-af2388ae7313",
   "metadata": {
    "tags": []
   },
   "outputs": [
    {
     "name": "stdout",
     "output_type": "stream",
     "text": [
      "Found 3115 files belonging to 36 classes.\n"
     ]
    }
   ],
   "source": [
    "# create a TensorFlow dataset from image files in the train data set\n",
    "\n",
    "data_train = tf.keras.utils.image_dataset_from_directory(\n",
    "    data_train_path,\n",
    "    \n",
    "    # This argument specifies whether to shuffle the data. \n",
    "    # Setting it to True shuffles the data, which is usually desirable during training to \n",
    "    # prevent the model from learning the order of the images.\n",
    "    shuffle=True,\n",
    "    \n",
    "    image_size=(img_width, img_height),\n",
    "    batch_size=32,\n",
    "    \n",
    "    # Setting it to False indicates that no split will be performed here; the dataset will consist only of training data\n",
    "    validation_split=False)"
   ]
  },
  {
   "cell_type": "code",
   "execution_count": 75,
   "id": "33a2a86e-2a99-4f2e-9aee-70eb0c680591",
   "metadata": {
    "tags": []
   },
   "outputs": [],
   "source": [
    "# retrieving class names as a list and storing them in the variable\n",
    "classes = data_train.class_names"
   ]
  },
  {
   "cell_type": "code",
   "execution_count": 76,
   "id": "59f976a0-deca-4dfe-9135-de5746f6f388",
   "metadata": {
    "tags": []
   },
   "outputs": [
    {
     "name": "stdout",
     "output_type": "stream",
     "text": [
      "Found 351 files belonging to 36 classes.\n"
     ]
    }
   ],
   "source": [
    "# create a TensorFlow dataset (array) from image files in the val data set\n",
    "\n",
    "data_val = tf.keras.utils.image_dataset_from_directory(data_val_path,\n",
    "                                                       image_size=(img_height,img_width),\n",
    "                                                       batch_size=32,\n",
    "                                                        shuffle=False,\n",
    "                                                       validation_split=False)"
   ]
  },
  {
   "cell_type": "code",
   "execution_count": 77,
   "id": "54baa203-af64-4fad-9e75-c81f78f03ed6",
   "metadata": {
    "tags": []
   },
   "outputs": [
    {
     "name": "stdout",
     "output_type": "stream",
     "text": [
      "Found 359 files belonging to 36 classes.\n"
     ]
    }
   ],
   "source": [
    "# create a TensorFlow dataset (array) from image files in the test data set\n",
    "\n",
    "data_test = tf.keras.utils.image_dataset_from_directory(\n",
    "data_test_path,\n",
    "    image_size=(img_height,img_width),\n",
    "    shuffle=False,\n",
    "    batch_size=32,\n",
    "    validation_split=False\n",
    ")"
   ]
  },
  {
   "cell_type": "code",
   "execution_count": 78,
   "id": "dd189767-bb6d-44a9-8832-837b6364dc51",
   "metadata": {
    "tags": []
   },
   "outputs": [],
   "source": [
    "from tensorflow.keras.models import Sequential\n"
   ]
  },
  {
   "cell_type": "code",
   "execution_count": 81,
   "id": "bbed99b4-d69c-42f1-af2a-ea2ab2e174c3",
   "metadata": {
    "tags": []
   },
   "outputs": [],
   "source": [
    "model = Sequential([\n",
    "    \n",
    "    # Rescales the pixel values of the input images to the range [0,1] - Normalize input data\n",
    "    layers.Rescaling(1./255),\n",
    "    \n",
    "    \n",
    "    layers.Conv2D(16, 3, padding='same', activation='relu'),\n",
    "    layers.MaxPooling2D(),\n",
    "    layers.Conv2D(32,3, padding='same',activation='relu'),\n",
    "    layers.MaxPooling2D(),\n",
    "    layers.Conv2D(64, 3, padding='same', activation='relu'),\n",
    "    layers.MaxPooling2D(),\n",
    "    layers.Flatten(),\n",
    "    layers.Dropout(0.2),\n",
    "    layers.Dense(128),\n",
    "    layers.Dense(len(classes))\n",
    "                  \n",
    "])"
   ]
  },
  {
   "cell_type": "code",
   "execution_count": 82,
   "id": "9482dd73-fdf1-4714-a82a-5ca396ff1138",
   "metadata": {
    "tags": []
   },
   "outputs": [],
   "source": [
    "model.compile(optimizer='adam', loss=tf.keras.losses.SparseCategoricalCrossentropy(from_logits=True), metrics=['accuracy'])"
   ]
  },
  {
   "cell_type": "code",
   "execution_count": null,
   "id": "da5b86b2-af67-4d98-9f22-f571930786c7",
   "metadata": {
    "tags": []
   },
   "outputs": [],
   "source": [
    "history = model.fit(data_train, data_val, 25)"
   ]
  },
  {
   "cell_type": "code",
   "execution_count": 84,
   "id": "33c2a1f3-aadd-413c-b2c6-6808a4a47870",
   "metadata": {},
   "outputs": [],
   "source": [
    "model.save('Image_classify.keras')"
   ]
  }
 ],
 "metadata": {
  "kernelspec": {
   "display_name": "Python 3 (ipykernel)",
   "language": "python",
   "name": "python3"
  },
  "language_info": {
   "codemirror_mode": {
    "name": "ipython",
    "version": 3
   },
   "file_extension": ".py",
   "mimetype": "text/x-python",
   "name": "python",
   "nbconvert_exporter": "python",
   "pygments_lexer": "ipython3",
   "version": "3.11.5"
  }
 },
 "nbformat": 4,
 "nbformat_minor": 5
}
